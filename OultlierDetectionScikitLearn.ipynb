{
 "cells": [
  {
   "cell_type": "code",
   "execution_count": 1,
   "metadata": {},
   "outputs": [],
   "source": [
    "from sklearn.preprocessing import MinMaxScaler\n",
    "import pandas as pd\n",
    "from sklearn.cluster import DBSCAN\n",
    "from matplotlib import cm\n",
    "from sklearn.ensemble import IsolationForest\n",
    "import numpy as np\n",
    "import xgboost as xgb\n",
    "import seaborn as sns\n",
    "from sklearn.neighbors import LocalOutlierFactor\n",
    "import matplotlib.pyplot as plt\n",
    "from sklearn.covariance import EllipticEnvelope\n",
    "from sklearn import svm\n",
    "from sklearn.model_selection import train_test_split\n",
    "from sklearn import svm, metrics\n"
   ]
  },
  {
   "cell_type": "code",
   "execution_count": 2,
   "metadata": {},
   "outputs": [
    {
     "data": {
      "text/html": [
       "<div>\n",
       "<style scoped>\n",
       "    .dataframe tbody tr th:only-of-type {\n",
       "        vertical-align: middle;\n",
       "    }\n",
       "\n",
       "    .dataframe tbody tr th {\n",
       "        vertical-align: top;\n",
       "    }\n",
       "\n",
       "    .dataframe thead th {\n",
       "        text-align: right;\n",
       "    }\n",
       "</style>\n",
       "<table border=\"1\" class=\"dataframe\">\n",
       "  <thead>\n",
       "    <tr style=\"text-align: right;\">\n",
       "      <th></th>\n",
       "      <th>0</th>\n",
       "      <th>1</th>\n",
       "      <th>2</th>\n",
       "      <th>3</th>\n",
       "      <th>4</th>\n",
       "      <th>5</th>\n",
       "      <th>6</th>\n",
       "      <th>7</th>\n",
       "      <th>8</th>\n",
       "      <th>9</th>\n",
       "      <th>...</th>\n",
       "      <th>6050</th>\n",
       "      <th>6051</th>\n",
       "      <th>6052</th>\n",
       "      <th>6053</th>\n",
       "      <th>6054</th>\n",
       "      <th>6055</th>\n",
       "      <th>6056</th>\n",
       "      <th>6057</th>\n",
       "      <th>6058</th>\n",
       "      <th>6059</th>\n",
       "    </tr>\n",
       "  </thead>\n",
       "  <tbody>\n",
       "    <tr>\n",
       "      <td>0</td>\n",
       "      <td>191</td>\n",
       "      <td>367</td>\n",
       "      <td>614</td>\n",
       "      <td>634</td>\n",
       "      <td>711</td>\n",
       "      <td>1202</td>\n",
       "      <td>1220</td>\n",
       "      <td>1311</td>\n",
       "      <td>1472</td>\n",
       "      <td>1730</td>\n",
       "      <td>...</td>\n",
       "      <td>99821.0</td>\n",
       "      <td>99838.0</td>\n",
       "      <td>99851.0</td>\n",
       "      <td>99862.0</td>\n",
       "      <td>99889.0</td>\n",
       "      <td>99896.0</td>\n",
       "      <td>99924.0</td>\n",
       "      <td>99930.0</td>\n",
       "      <td>99934.0</td>\n",
       "      <td>99976.0</td>\n",
       "    </tr>\n",
       "    <tr>\n",
       "      <td>1</td>\n",
       "      <td>118</td>\n",
       "      <td>307</td>\n",
       "      <td>367</td>\n",
       "      <td>478</td>\n",
       "      <td>505</td>\n",
       "      <td>512</td>\n",
       "      <td>807</td>\n",
       "      <td>878</td>\n",
       "      <td>939</td>\n",
       "      <td>1024</td>\n",
       "      <td>...</td>\n",
       "      <td>99821.0</td>\n",
       "      <td>99838.0</td>\n",
       "      <td>99851.0</td>\n",
       "      <td>99862.0</td>\n",
       "      <td>99889.0</td>\n",
       "      <td>99896.0</td>\n",
       "      <td>99924.0</td>\n",
       "      <td>99930.0</td>\n",
       "      <td>99934.0</td>\n",
       "      <td>99976.0</td>\n",
       "    </tr>\n",
       "    <tr>\n",
       "      <td>2</td>\n",
       "      <td>10</td>\n",
       "      <td>184</td>\n",
       "      <td>284</td>\n",
       "      <td>297</td>\n",
       "      <td>320</td>\n",
       "      <td>375</td>\n",
       "      <td>445</td>\n",
       "      <td>588</td>\n",
       "      <td>658</td>\n",
       "      <td>1108</td>\n",
       "      <td>...</td>\n",
       "      <td>99821.0</td>\n",
       "      <td>99838.0</td>\n",
       "      <td>99851.0</td>\n",
       "      <td>99862.0</td>\n",
       "      <td>99889.0</td>\n",
       "      <td>99896.0</td>\n",
       "      <td>99924.0</td>\n",
       "      <td>99930.0</td>\n",
       "      <td>99934.0</td>\n",
       "      <td>99976.0</td>\n",
       "    </tr>\n",
       "    <tr>\n",
       "      <td>3</td>\n",
       "      <td>87</td>\n",
       "      <td>149</td>\n",
       "      <td>433</td>\n",
       "      <td>704</td>\n",
       "      <td>711</td>\n",
       "      <td>892</td>\n",
       "      <td>988</td>\n",
       "      <td>1056</td>\n",
       "      <td>1070</td>\n",
       "      <td>1234</td>\n",
       "      <td>...</td>\n",
       "      <td>99821.0</td>\n",
       "      <td>99838.0</td>\n",
       "      <td>99851.0</td>\n",
       "      <td>99862.0</td>\n",
       "      <td>99889.0</td>\n",
       "      <td>99896.0</td>\n",
       "      <td>99924.0</td>\n",
       "      <td>99930.0</td>\n",
       "      <td>99934.0</td>\n",
       "      <td>99976.0</td>\n",
       "    </tr>\n",
       "    <tr>\n",
       "      <td>4</td>\n",
       "      <td>84</td>\n",
       "      <td>118</td>\n",
       "      <td>279</td>\n",
       "      <td>316</td>\n",
       "      <td>435</td>\n",
       "      <td>505</td>\n",
       "      <td>584</td>\n",
       "      <td>629</td>\n",
       "      <td>849</td>\n",
       "      <td>1029</td>\n",
       "      <td>...</td>\n",
       "      <td>99821.0</td>\n",
       "      <td>99838.0</td>\n",
       "      <td>99851.0</td>\n",
       "      <td>99862.0</td>\n",
       "      <td>99889.0</td>\n",
       "      <td>99896.0</td>\n",
       "      <td>99924.0</td>\n",
       "      <td>99930.0</td>\n",
       "      <td>99934.0</td>\n",
       "      <td>99976.0</td>\n",
       "    </tr>\n",
       "  </tbody>\n",
       "</table>\n",
       "<p>5 rows × 6060 columns</p>\n",
       "</div>"
      ],
      "text/plain": [
       "   0     1     2     3     4     5     6     7     8     9     ...     6050  \\\n",
       "0   191   367   614   634   711  1202  1220  1311  1472  1730  ...  99821.0   \n",
       "1   118   307   367   478   505   512   807   878   939  1024  ...  99821.0   \n",
       "2    10   184   284   297   320   375   445   588   658  1108  ...  99821.0   \n",
       "3    87   149   433   704   711   892   988  1056  1070  1234  ...  99821.0   \n",
       "4    84   118   279   316   435   505   584   629   849  1029  ...  99821.0   \n",
       "\n",
       "      6051     6052     6053     6054     6055     6056     6057     6058  \\\n",
       "0  99838.0  99851.0  99862.0  99889.0  99896.0  99924.0  99930.0  99934.0   \n",
       "1  99838.0  99851.0  99862.0  99889.0  99896.0  99924.0  99930.0  99934.0   \n",
       "2  99838.0  99851.0  99862.0  99889.0  99896.0  99924.0  99930.0  99934.0   \n",
       "3  99838.0  99851.0  99862.0  99889.0  99896.0  99924.0  99930.0  99934.0   \n",
       "4  99838.0  99851.0  99862.0  99889.0  99896.0  99924.0  99930.0  99934.0   \n",
       "\n",
       "      6059  \n",
       "0  99976.0  \n",
       "1  99976.0  \n",
       "2  99976.0  \n",
       "3  99976.0  \n",
       "4  99976.0  \n",
       "\n",
       "[5 rows x 6060 columns]"
      ]
     },
     "execution_count": 2,
     "metadata": {},
     "output_type": "execute_result"
    }
   ],
   "source": [
    "X = pd.read_csv('Dorothea/dorothea_train.data', delimiter=' ', names=list(range(6060)))\n",
    "y = pd.read_csv('Dorothea/dorothea_train.labels', names=list(range(1)))\n",
    "\n",
    "for i in range(len(X.columns)):\n",
    "    X[i].fillna(X[i].median(), inplace=True)\n",
    "\n",
    "X.head()"
   ]
  },
  {
   "cell_type": "code",
   "execution_count": 3,
   "metadata": {},
   "outputs": [
    {
     "name": "stderr",
     "output_type": "stream",
     "text": [
      "/home/e/anaconda3/lib/python3.7/site-packages/sklearn/utils/validation.py:724: DataConversionWarning: A column-vector y was passed when a 1d array was expected. Please change the shape of y to (n_samples, ), for example using ravel().\n",
      "  y = column_or_1d(y, warn=True)\n"
     ]
    },
    {
     "name": "stdout",
     "output_type": "stream",
     "text": [
      "              precision    recall  f1-score   support\n",
      "\n",
      "          -1       0.90      0.91      0.90       216\n",
      "           1       0.09      0.08      0.09        24\n",
      "\n",
      "    accuracy                           0.82       240\n",
      "   macro avg       0.49      0.50      0.50       240\n",
      "weighted avg       0.82      0.82      0.82       240\n",
      "\n"
     ]
    }
   ],
   "source": [
    "X_train, X_test, y_train, y_test = train_test_split(X, y, test_size=0.3, random_state=42)\n",
    "svm2_clf = svm.SVC(kernel='linear')\n",
    "\n",
    "svm2_clf.fit(X_train, y_train)\n",
    "expected = y_test\n",
    "predicted = svm2_clf.predict(X_test)\n",
    "print(metrics.classification_report(expected, predicted))"
   ]
  },
  {
   "cell_type": "code",
   "execution_count": 4,
   "metadata": {},
   "outputs": [],
   "source": [
    "df=pd.concat((X,y),axis=1)\n",
    "df2=df"
   ]
  },
  {
   "cell_type": "code",
   "execution_count": 5,
   "metadata": {},
   "outputs": [
    {
     "name": "stdout",
     "output_type": "stream",
     "text": [
      "(800, 6061)\n"
     ]
    },
    {
     "data": {
      "text/html": [
       "<div>\n",
       "<style scoped>\n",
       "    .dataframe tbody tr th:only-of-type {\n",
       "        vertical-align: middle;\n",
       "    }\n",
       "\n",
       "    .dataframe tbody tr th {\n",
       "        vertical-align: top;\n",
       "    }\n",
       "\n",
       "    .dataframe thead th {\n",
       "        text-align: right;\n",
       "    }\n",
       "</style>\n",
       "<table border=\"1\" class=\"dataframe\">\n",
       "  <thead>\n",
       "    <tr style=\"text-align: right;\">\n",
       "      <th></th>\n",
       "      <th>0</th>\n",
       "      <th>1</th>\n",
       "      <th>2</th>\n",
       "      <th>3</th>\n",
       "      <th>4</th>\n",
       "      <th>5</th>\n",
       "      <th>6</th>\n",
       "      <th>7</th>\n",
       "      <th>8</th>\n",
       "      <th>9</th>\n",
       "      <th>...</th>\n",
       "      <th>6051</th>\n",
       "      <th>6052</th>\n",
       "      <th>6053</th>\n",
       "      <th>6054</th>\n",
       "      <th>6055</th>\n",
       "      <th>6056</th>\n",
       "      <th>6057</th>\n",
       "      <th>6058</th>\n",
       "      <th>6059</th>\n",
       "      <th>0</th>\n",
       "    </tr>\n",
       "  </thead>\n",
       "  <tbody>\n",
       "    <tr>\n",
       "      <td>0</td>\n",
       "      <td>0.215909</td>\n",
       "      <td>0.351562</td>\n",
       "      <td>0.475240</td>\n",
       "      <td>0.378328</td>\n",
       "      <td>0.383815</td>\n",
       "      <td>0.629164</td>\n",
       "      <td>0.497818</td>\n",
       "      <td>0.499591</td>\n",
       "      <td>0.544735</td>\n",
       "      <td>0.466992</td>\n",
       "      <td>...</td>\n",
       "      <td>0.0</td>\n",
       "      <td>0.0</td>\n",
       "      <td>0.0</td>\n",
       "      <td>0.0</td>\n",
       "      <td>0.0</td>\n",
       "      <td>0.0</td>\n",
       "      <td>0.0</td>\n",
       "      <td>0.0</td>\n",
       "      <td>0.0</td>\n",
       "      <td>0.0</td>\n",
       "    </tr>\n",
       "    <tr>\n",
       "      <td>1</td>\n",
       "      <td>0.132955</td>\n",
       "      <td>0.292969</td>\n",
       "      <td>0.277955</td>\n",
       "      <td>0.281734</td>\n",
       "      <td>0.264740</td>\n",
       "      <td>0.252321</td>\n",
       "      <td>0.317627</td>\n",
       "      <td>0.322567</td>\n",
       "      <td>0.333729</td>\n",
       "      <td>0.264351</td>\n",
       "      <td>...</td>\n",
       "      <td>0.0</td>\n",
       "      <td>0.0</td>\n",
       "      <td>0.0</td>\n",
       "      <td>0.0</td>\n",
       "      <td>0.0</td>\n",
       "      <td>0.0</td>\n",
       "      <td>0.0</td>\n",
       "      <td>0.0</td>\n",
       "      <td>0.0</td>\n",
       "      <td>0.0</td>\n",
       "    </tr>\n",
       "    <tr>\n",
       "      <td>2</td>\n",
       "      <td>0.010227</td>\n",
       "      <td>0.172852</td>\n",
       "      <td>0.211661</td>\n",
       "      <td>0.169659</td>\n",
       "      <td>0.157803</td>\n",
       "      <td>0.177499</td>\n",
       "      <td>0.159686</td>\n",
       "      <td>0.204007</td>\n",
       "      <td>0.222486</td>\n",
       "      <td>0.288462</td>\n",
       "      <td>...</td>\n",
       "      <td>0.0</td>\n",
       "      <td>0.0</td>\n",
       "      <td>0.0</td>\n",
       "      <td>0.0</td>\n",
       "      <td>0.0</td>\n",
       "      <td>0.0</td>\n",
       "      <td>0.0</td>\n",
       "      <td>0.0</td>\n",
       "      <td>0.0</td>\n",
       "      <td>0.0</td>\n",
       "    </tr>\n",
       "    <tr>\n",
       "      <td>3</td>\n",
       "      <td>0.097727</td>\n",
       "      <td>0.138672</td>\n",
       "      <td>0.330671</td>\n",
       "      <td>0.421672</td>\n",
       "      <td>0.383815</td>\n",
       "      <td>0.459858</td>\n",
       "      <td>0.396597</td>\n",
       "      <td>0.395339</td>\n",
       "      <td>0.385590</td>\n",
       "      <td>0.324627</td>\n",
       "      <td>...</td>\n",
       "      <td>0.0</td>\n",
       "      <td>0.0</td>\n",
       "      <td>0.0</td>\n",
       "      <td>0.0</td>\n",
       "      <td>0.0</td>\n",
       "      <td>0.0</td>\n",
       "      <td>0.0</td>\n",
       "      <td>0.0</td>\n",
       "      <td>0.0</td>\n",
       "      <td>0.0</td>\n",
       "    </tr>\n",
       "    <tr>\n",
       "      <td>4</td>\n",
       "      <td>0.094318</td>\n",
       "      <td>0.108398</td>\n",
       "      <td>0.207668</td>\n",
       "      <td>0.181424</td>\n",
       "      <td>0.224277</td>\n",
       "      <td>0.248498</td>\n",
       "      <td>0.220332</td>\n",
       "      <td>0.220769</td>\n",
       "      <td>0.298100</td>\n",
       "      <td>0.265786</td>\n",
       "      <td>...</td>\n",
       "      <td>0.0</td>\n",
       "      <td>0.0</td>\n",
       "      <td>0.0</td>\n",
       "      <td>0.0</td>\n",
       "      <td>0.0</td>\n",
       "      <td>0.0</td>\n",
       "      <td>0.0</td>\n",
       "      <td>0.0</td>\n",
       "      <td>0.0</td>\n",
       "      <td>0.0</td>\n",
       "    </tr>\n",
       "  </tbody>\n",
       "</table>\n",
       "<p>5 rows × 6061 columns</p>\n",
       "</div>"
      ],
      "text/plain": [
       "       0         1         2         3         4         5         6     \\\n",
       "0  0.215909  0.351562  0.475240  0.378328  0.383815  0.629164  0.497818   \n",
       "1  0.132955  0.292969  0.277955  0.281734  0.264740  0.252321  0.317627   \n",
       "2  0.010227  0.172852  0.211661  0.169659  0.157803  0.177499  0.159686   \n",
       "3  0.097727  0.138672  0.330671  0.421672  0.383815  0.459858  0.396597   \n",
       "4  0.094318  0.108398  0.207668  0.181424  0.224277  0.248498  0.220332   \n",
       "\n",
       "       7         8         9     ...  6051  6052  6053  6054  6055  6056  \\\n",
       "0  0.499591  0.544735  0.466992  ...   0.0   0.0   0.0   0.0   0.0   0.0   \n",
       "1  0.322567  0.333729  0.264351  ...   0.0   0.0   0.0   0.0   0.0   0.0   \n",
       "2  0.204007  0.222486  0.288462  ...   0.0   0.0   0.0   0.0   0.0   0.0   \n",
       "3  0.395339  0.385590  0.324627  ...   0.0   0.0   0.0   0.0   0.0   0.0   \n",
       "4  0.220769  0.298100  0.265786  ...   0.0   0.0   0.0   0.0   0.0   0.0   \n",
       "\n",
       "   6057  6058  6059  0     \n",
       "0   0.0   0.0   0.0   0.0  \n",
       "1   0.0   0.0   0.0   0.0  \n",
       "2   0.0   0.0   0.0   0.0  \n",
       "3   0.0   0.0   0.0   0.0  \n",
       "4   0.0   0.0   0.0   0.0  \n",
       "\n",
       "[5 rows x 6061 columns]"
      ]
     },
     "execution_count": 5,
     "metadata": {},
     "output_type": "execute_result"
    }
   ],
   "source": [
    "#Outlier Detection process\n",
    "scaler = MinMaxScaler()\n",
    "num = scaler.fit_transform(df)\n",
    "df = pd.DataFrame(num, columns = df.columns)\n",
    "print(df.shape)\n",
    "df.head()"
   ]
  },
  {
   "cell_type": "code",
   "execution_count": 7,
   "metadata": {},
   "outputs": [
    {
     "name": "stderr",
     "output_type": "stream",
     "text": [
      "/home/e/anaconda3/lib/python3.7/site-packages/sklearn/ensemble/iforest.py:247: FutureWarning: behaviour=\"old\" is deprecated and will be removed in version 0.22. Please use behaviour=\"new\", which makes the decision_function change to match other anomaly detection algorithm API.\n",
      "  FutureWarning)\n",
      "/home/e/anaconda3/lib/python3.7/site-packages/sklearn/ensemble/iforest.py:415: DeprecationWarning: threshold_ attribute is deprecated in 0.20 and will be removed in 0.22.\n",
      "  \" be removed in 0.22.\", DeprecationWarning)\n"
     ]
    }
   ],
   "source": [
    "# Isolation Forest\n",
    "rs=np.random.RandomState(0)\n",
    "clf = IsolationForest(max_samples=100,random_state=rs, contamination=.1) \n",
    "clf.fit(df)\n",
    "if_scores = clf.decision_function(df)\n",
    "if_anomalies=clf.predict(df)\n",
    "if_anomalies1=pd.Series(if_anomalies).replace([-1,1],[1,0])\n"
   ]
  },
  {
   "cell_type": "code",
   "execution_count": 8,
   "metadata": {},
   "outputs": [],
   "source": [
    "TT=df.loc[if_anomalies1==1]\n",
    "df=df.drop(TT.T)\n",
    "X=df.iloc[:, :-1].values\n",
    "y=df.iloc[:, 6060].values"
   ]
  },
  {
   "cell_type": "code",
   "execution_count": 11,
   "metadata": {},
   "outputs": [
    {
     "data": {
      "text/plain": [
       "(720,)"
      ]
     },
     "execution_count": 11,
     "metadata": {},
     "output_type": "execute_result"
    }
   ],
   "source": [
    "y.shape"
   ]
  },
  {
   "cell_type": "code",
   "execution_count": 9,
   "metadata": {},
   "outputs": [],
   "source": [
    "from sklearn.model_selection import train_test_split\n",
    "X_train, X_test, y_train, y_test = train_test_split(X, y, test_size=0.3, random_state=42)\n"
   ]
  },
  {
   "cell_type": "code",
   "execution_count": 10,
   "metadata": {},
   "outputs": [
    {
     "name": "stdout",
     "output_type": "stream",
     "text": [
      "              precision    recall  f1-score   support\n",
      "\n",
      "         0.0       0.92      1.00      0.96       198\n",
      "         1.0       0.00      0.00      0.00        18\n",
      "\n",
      "    accuracy                           0.92       216\n",
      "   macro avg       0.46      0.50      0.48       216\n",
      "weighted avg       0.84      0.92      0.88       216\n",
      "\n"
     ]
    },
    {
     "name": "stderr",
     "output_type": "stream",
     "text": [
      "/home/e/anaconda3/lib/python3.7/site-packages/sklearn/metrics/classification.py:1437: UndefinedMetricWarning: Precision and F-score are ill-defined and being set to 0.0 in labels with no predicted samples.\n",
      "  'precision', 'predicted', average, warn_for)\n"
     ]
    }
   ],
   "source": [
    "svm2_clf = svm.SVC(kernel='linear')\n",
    "from sklearn import svm, metrics\n",
    "svm2_clf.fit(X_train, y_train)\n",
    "expected = y_test\n",
    "predicted = svm2_clf.predict(X_test)\n",
    "print(metrics.classification_report(expected, predicted))"
   ]
  },
  {
   "cell_type": "code",
   "execution_count": 11,
   "metadata": {},
   "outputs": [],
   "source": [
    "#second Outlier Detection\n",
    "clf=svm.OneClassSVM(nu=.2,kernel='rbf',gamma=.001)\n",
    "clf.fit(df2)\n",
    "y_pred=clf.predict(df2)"
   ]
  },
  {
   "cell_type": "code",
   "execution_count": 20,
   "metadata": {},
   "outputs": [
    {
     "data": {
      "text/plain": [
       "(800,)"
      ]
     },
     "execution_count": 20,
     "metadata": {},
     "output_type": "execute_result"
    }
   ],
   "source": [
    "y_pred.shape\n"
   ]
  },
  {
   "cell_type": "code",
   "execution_count": 19,
   "metadata": {},
   "outputs": [
    {
     "ename": "IndexError",
     "evalue": "Item wrong length 800 instead of 160.",
     "output_type": "error",
     "traceback": [
      "\u001b[0;31m---------------------------------------------------------------------------\u001b[0m",
      "\u001b[0;31mIndexError\u001b[0m                                Traceback (most recent call last)",
      "\u001b[0;32m<ipython-input-19-0d6df7b87c86>\u001b[0m in \u001b[0;36m<module>\u001b[0;34m\u001b[0m\n\u001b[0;32m----> 1\u001b[0;31m \u001b[0mTT\u001b[0m\u001b[0;34m=\u001b[0m\u001b[0mdf2\u001b[0m\u001b[0;34m.\u001b[0m\u001b[0mloc\u001b[0m\u001b[0;34m[\u001b[0m\u001b[0my_pred\u001b[0m\u001b[0;34m==\u001b[0m\u001b[0;36m1\u001b[0m\u001b[0;34m]\u001b[0m\u001b[0;34m\u001b[0m\u001b[0;34m\u001b[0m\u001b[0m\n\u001b[0m\u001b[1;32m      2\u001b[0m \u001b[0mdf2\u001b[0m\u001b[0;34m=\u001b[0m\u001b[0mdf2\u001b[0m\u001b[0;34m.\u001b[0m\u001b[0mdrop\u001b[0m\u001b[0;34m(\u001b[0m\u001b[0mTT\u001b[0m\u001b[0;34m.\u001b[0m\u001b[0mT\u001b[0m\u001b[0;34m)\u001b[0m\u001b[0;34m\u001b[0m\u001b[0;34m\u001b[0m\u001b[0m\n\u001b[1;32m      3\u001b[0m \u001b[0mX\u001b[0m\u001b[0;34m=\u001b[0m\u001b[0mdf2\u001b[0m\u001b[0;34m.\u001b[0m\u001b[0miloc\u001b[0m\u001b[0;34m[\u001b[0m\u001b[0;34m:\u001b[0m\u001b[0;34m,\u001b[0m \u001b[0;34m:\u001b[0m\u001b[0;34m-\u001b[0m\u001b[0;36m1\u001b[0m\u001b[0;34m]\u001b[0m\u001b[0;34m.\u001b[0m\u001b[0mvalues\u001b[0m\u001b[0;34m\u001b[0m\u001b[0;34m\u001b[0m\u001b[0m\n\u001b[1;32m      4\u001b[0m \u001b[0my\u001b[0m\u001b[0;34m=\u001b[0m\u001b[0mdf2\u001b[0m\u001b[0;34m.\u001b[0m\u001b[0miloc\u001b[0m\u001b[0;34m[\u001b[0m\u001b[0;34m:\u001b[0m\u001b[0;34m,\u001b[0m \u001b[0;36m6060\u001b[0m\u001b[0;34m]\u001b[0m\u001b[0;34m.\u001b[0m\u001b[0mvalues\u001b[0m\u001b[0;34m\u001b[0m\u001b[0;34m\u001b[0m\u001b[0m\n",
      "\u001b[0;32m~/anaconda3/lib/python3.7/site-packages/pandas/core/indexing.py\u001b[0m in \u001b[0;36m__getitem__\u001b[0;34m(self, key)\u001b[0m\n\u001b[1;32m   1422\u001b[0m \u001b[0;34m\u001b[0m\u001b[0m\n\u001b[1;32m   1423\u001b[0m             \u001b[0mmaybe_callable\u001b[0m \u001b[0;34m=\u001b[0m \u001b[0mcom\u001b[0m\u001b[0;34m.\u001b[0m\u001b[0mapply_if_callable\u001b[0m\u001b[0;34m(\u001b[0m\u001b[0mkey\u001b[0m\u001b[0;34m,\u001b[0m \u001b[0mself\u001b[0m\u001b[0;34m.\u001b[0m\u001b[0mobj\u001b[0m\u001b[0;34m)\u001b[0m\u001b[0;34m\u001b[0m\u001b[0;34m\u001b[0m\u001b[0m\n\u001b[0;32m-> 1424\u001b[0;31m             \u001b[0;32mreturn\u001b[0m \u001b[0mself\u001b[0m\u001b[0;34m.\u001b[0m\u001b[0m_getitem_axis\u001b[0m\u001b[0;34m(\u001b[0m\u001b[0mmaybe_callable\u001b[0m\u001b[0;34m,\u001b[0m \u001b[0maxis\u001b[0m\u001b[0;34m=\u001b[0m\u001b[0maxis\u001b[0m\u001b[0;34m)\u001b[0m\u001b[0;34m\u001b[0m\u001b[0;34m\u001b[0m\u001b[0m\n\u001b[0m\u001b[1;32m   1425\u001b[0m \u001b[0;34m\u001b[0m\u001b[0m\n\u001b[1;32m   1426\u001b[0m     \u001b[0;32mdef\u001b[0m \u001b[0m_is_scalar_access\u001b[0m\u001b[0;34m(\u001b[0m\u001b[0mself\u001b[0m\u001b[0;34m,\u001b[0m \u001b[0mkey\u001b[0m\u001b[0;34m:\u001b[0m \u001b[0mTuple\u001b[0m\u001b[0;34m)\u001b[0m\u001b[0;34m:\u001b[0m\u001b[0;34m\u001b[0m\u001b[0;34m\u001b[0m\u001b[0m\n",
      "\u001b[0;32m~/anaconda3/lib/python3.7/site-packages/pandas/core/indexing.py\u001b[0m in \u001b[0;36m_getitem_axis\u001b[0;34m(self, key, axis)\u001b[0m\n\u001b[1;32m   1797\u001b[0m             \u001b[0;32mreturn\u001b[0m \u001b[0mself\u001b[0m\u001b[0;34m.\u001b[0m\u001b[0m_get_slice_axis\u001b[0m\u001b[0;34m(\u001b[0m\u001b[0mkey\u001b[0m\u001b[0;34m,\u001b[0m \u001b[0maxis\u001b[0m\u001b[0;34m=\u001b[0m\u001b[0maxis\u001b[0m\u001b[0;34m)\u001b[0m\u001b[0;34m\u001b[0m\u001b[0;34m\u001b[0m\u001b[0m\n\u001b[1;32m   1798\u001b[0m         \u001b[0;32melif\u001b[0m \u001b[0mcom\u001b[0m\u001b[0;34m.\u001b[0m\u001b[0mis_bool_indexer\u001b[0m\u001b[0;34m(\u001b[0m\u001b[0mkey\u001b[0m\u001b[0;34m)\u001b[0m\u001b[0;34m:\u001b[0m\u001b[0;34m\u001b[0m\u001b[0;34m\u001b[0m\u001b[0m\n\u001b[0;32m-> 1799\u001b[0;31m             \u001b[0;32mreturn\u001b[0m \u001b[0mself\u001b[0m\u001b[0;34m.\u001b[0m\u001b[0m_getbool_axis\u001b[0m\u001b[0;34m(\u001b[0m\u001b[0mkey\u001b[0m\u001b[0;34m,\u001b[0m \u001b[0maxis\u001b[0m\u001b[0;34m=\u001b[0m\u001b[0maxis\u001b[0m\u001b[0;34m)\u001b[0m\u001b[0;34m\u001b[0m\u001b[0;34m\u001b[0m\u001b[0m\n\u001b[0m\u001b[1;32m   1800\u001b[0m         \u001b[0;32melif\u001b[0m \u001b[0mis_list_like_indexer\u001b[0m\u001b[0;34m(\u001b[0m\u001b[0mkey\u001b[0m\u001b[0;34m)\u001b[0m\u001b[0;34m:\u001b[0m\u001b[0;34m\u001b[0m\u001b[0;34m\u001b[0m\u001b[0m\n\u001b[1;32m   1801\u001b[0m \u001b[0;34m\u001b[0m\u001b[0m\n",
      "\u001b[0;32m~/anaconda3/lib/python3.7/site-packages/pandas/core/indexing.py\u001b[0m in \u001b[0;36m_getbool_axis\u001b[0;34m(self, key, axis)\u001b[0m\n\u001b[1;32m   1436\u001b[0m         \u001b[0;31m# caller is responsible for ensuring non-None axis\u001b[0m\u001b[0;34m\u001b[0m\u001b[0;34m\u001b[0m\u001b[0;34m\u001b[0m\u001b[0m\n\u001b[1;32m   1437\u001b[0m         \u001b[0mlabels\u001b[0m \u001b[0;34m=\u001b[0m \u001b[0mself\u001b[0m\u001b[0;34m.\u001b[0m\u001b[0mobj\u001b[0m\u001b[0;34m.\u001b[0m\u001b[0m_get_axis\u001b[0m\u001b[0;34m(\u001b[0m\u001b[0maxis\u001b[0m\u001b[0;34m)\u001b[0m\u001b[0;34m\u001b[0m\u001b[0;34m\u001b[0m\u001b[0m\n\u001b[0;32m-> 1438\u001b[0;31m         \u001b[0mkey\u001b[0m \u001b[0;34m=\u001b[0m \u001b[0mcheck_bool_indexer\u001b[0m\u001b[0;34m(\u001b[0m\u001b[0mlabels\u001b[0m\u001b[0;34m,\u001b[0m \u001b[0mkey\u001b[0m\u001b[0;34m)\u001b[0m\u001b[0;34m\u001b[0m\u001b[0;34m\u001b[0m\u001b[0m\n\u001b[0m\u001b[1;32m   1439\u001b[0m         \u001b[0minds\u001b[0m\u001b[0;34m,\u001b[0m \u001b[0;34m=\u001b[0m \u001b[0mkey\u001b[0m\u001b[0;34m.\u001b[0m\u001b[0mnonzero\u001b[0m\u001b[0;34m(\u001b[0m\u001b[0;34m)\u001b[0m\u001b[0;34m\u001b[0m\u001b[0;34m\u001b[0m\u001b[0m\n\u001b[1;32m   1440\u001b[0m         \u001b[0;32mtry\u001b[0m\u001b[0;34m:\u001b[0m\u001b[0;34m\u001b[0m\u001b[0;34m\u001b[0m\u001b[0m\n",
      "\u001b[0;32m~/anaconda3/lib/python3.7/site-packages/pandas/core/indexing.py\u001b[0m in \u001b[0;36mcheck_bool_indexer\u001b[0;34m(index, key)\u001b[0m\n\u001b[1;32m   2422\u001b[0m         \u001b[0;32mif\u001b[0m \u001b[0mlen\u001b[0m\u001b[0;34m(\u001b[0m\u001b[0mresult\u001b[0m\u001b[0;34m)\u001b[0m \u001b[0;34m!=\u001b[0m \u001b[0mlen\u001b[0m\u001b[0;34m(\u001b[0m\u001b[0mindex\u001b[0m\u001b[0;34m)\u001b[0m\u001b[0;34m:\u001b[0m\u001b[0;34m\u001b[0m\u001b[0;34m\u001b[0m\u001b[0m\n\u001b[1;32m   2423\u001b[0m             raise IndexError(\n\u001b[0;32m-> 2424\u001b[0;31m                 \u001b[0;34m\"Item wrong length {} instead of {}.\"\u001b[0m\u001b[0;34m.\u001b[0m\u001b[0mformat\u001b[0m\u001b[0;34m(\u001b[0m\u001b[0mlen\u001b[0m\u001b[0;34m(\u001b[0m\u001b[0mresult\u001b[0m\u001b[0;34m)\u001b[0m\u001b[0;34m,\u001b[0m \u001b[0mlen\u001b[0m\u001b[0;34m(\u001b[0m\u001b[0mindex\u001b[0m\u001b[0;34m)\u001b[0m\u001b[0;34m)\u001b[0m\u001b[0;34m\u001b[0m\u001b[0;34m\u001b[0m\u001b[0m\n\u001b[0m\u001b[1;32m   2425\u001b[0m             )\n\u001b[1;32m   2426\u001b[0m \u001b[0;34m\u001b[0m\u001b[0m\n",
      "\u001b[0;31mIndexError\u001b[0m: Item wrong length 800 instead of 160."
     ]
    }
   ],
   "source": [
    "TT=df2.loc[y_pred==1]\n",
    "df2=df2.drop(TT.T)\n",
    "X=df2.iloc[:, :-1].values\n",
    "y=df2.iloc[:, 6060].values"
   ]
  },
  {
   "cell_type": "code",
   "execution_count": 14,
   "metadata": {},
   "outputs": [],
   "source": [
    "from sklearn.model_selection import train_test_split\n",
    "X_train, X_test, y_train, y_test = train_test_split(X, y, test_size=0.3, random_state=42)\n"
   ]
  },
  {
   "cell_type": "code",
   "execution_count": 15,
   "metadata": {},
   "outputs": [
    {
     "name": "stdout",
     "output_type": "stream",
     "text": [
      "              precision    recall  f1-score   support\n",
      "\n",
      "          -1       0.86      0.78      0.82        41\n",
      "           1       0.18      0.29      0.22         7\n",
      "\n",
      "    accuracy                           0.71        48\n",
      "   macro avg       0.52      0.53      0.52        48\n",
      "weighted avg       0.77      0.71      0.73        48\n",
      "\n"
     ]
    }
   ],
   "source": [
    "svm2_clf = svm.SVC(kernel='linear')\n",
    "\n",
    "from sklearn import svm, metrics\n",
    "\n",
    "svm2_clf.fit(X_train, y_train)\n",
    "expected = y_test\n",
    "predicted = svm2_clf.predict(X_test)\n",
    "print(metrics.classification_report(expected, predicted))"
   ]
  }
 ],
 "metadata": {
  "kernelspec": {
   "display_name": "Python 3",
   "language": "python",
   "name": "python3"
  },
  "language_info": {
   "codemirror_mode": {
    "name": "ipython",
    "version": 3
   },
   "file_extension": ".py",
   "mimetype": "text/x-python",
   "name": "python",
   "nbconvert_exporter": "python",
   "pygments_lexer": "ipython3",
   "version": "3.7.4"
  }
 },
 "nbformat": 4,
 "nbformat_minor": 2
}
